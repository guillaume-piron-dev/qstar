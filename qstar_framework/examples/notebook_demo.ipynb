# examples/notebook_demo.ipynb
# (Ce contenu doit être placé dans un fichier .ipynb Jupyter Notebook)

{
 "cells": [
  {
   "cell_type": "markdown",
   "metadata": {},
   "source": [
    "# Démonstration Q-STAR \n\nCe notebook montre l'utilisation de l'algorithme Q-STAR sur des données mixtes (texte et numérique)."
   ]
  },
  {
   "cell_type": "code",
   "execution_count": null,
   "metadata": {},
   "outputs": [],
   "source": [
    "from qstar.core import QStarPipeline\n\nexamples = [42, 'machine', 3.14, 'openAI']\n\nfor ex in examples:\n    pipeline = QStarPipeline()\n    result = pipeline.run(ex)\n    print(f'\nEntrée : {ex}')\n    for log in pipeline.get_logs():\n        print('  ', log)\n    print('Résultat final :', result)"
   ]
  }
 ],
 "metadata": {
  "kernelspec": {
   "display_name": "Python 3",
   "language": "python",
   "name": "python3"
  },
  "language_info": {
   "name": "python",
   "version": "3.10"
  }
 },
 "nbformat": 4,
 "nbformat_minor": 2
}
